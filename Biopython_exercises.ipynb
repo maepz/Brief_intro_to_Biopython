{
 "cells": [
  {
   "cell_type": "markdown",
   "metadata": {},
   "source": [
    "# Introduction"
   ]
  },
  {
   "cell_type": "markdown",
   "metadata": {},
   "source": [
    "## Understand python classes\n",
    "example taken from https://scientific-python-101.readthedocs.io/python/classes.html"
   ]
  },
  {
   "cell_type": "code",
   "execution_count": 7,
   "metadata": {},
   "outputs": [
    {
     "name": "stdout",
     "output_type": "stream",
     "text": [
      "<__main__.Rectangle object at 0x7fcf587ad128>\n",
      "area of my_rectangle 12\n",
      "perimeter of my_rectangle 14\n"
     ]
    }
   ],
   "source": [
    "class Rectangle:\n",
    "    \"\"\"A rectangle that is described by its length and width.\"\"\"\n",
    "\n",
    "    def __init__(self, length, width): # provide some initial arguments to the class. Here length and width\n",
    "        self.length = length\n",
    "        self.width = width\n",
    "\n",
    "    def area(self): # define a new attribute for the class. Here the area\n",
    "        \"\"\"Return the area of the rectangle.\"\"\"\n",
    "        return(self.length*self.width)\n",
    "\n",
    "    def perimeter(self):\n",
    "        \"\"\"Return the perimeter of the rectangle.\"\"\"\n",
    "        return(2*(self.length + self.width))\n",
    "    \n",
    "my_rectangle = Rectangle(3,4) # create a new object of class Rectangle. Here with length=3 and width=4\n",
    "\n",
    "print(my_rectangle)\n",
    "\n",
    "print('area of my_rectangle', my_rectangle.area())\n",
    "\n",
    "print('perimeter of my_rectangle', my_rectangle.perimeter())\n"
   ]
  },
  {
   "cell_type": "markdown",
   "metadata": {},
   "source": [
    "Now, create a square and print its area and perimiter"
   ]
  },
  {
   "cell_type": "code",
   "execution_count": null,
   "metadata": {},
   "outputs": [],
   "source": [
    "square="
   ]
  },
  {
   "cell_type": "markdown",
   "metadata": {},
   "source": [
    "## Understand the main Biopython classes"
   ]
  },
  {
   "cell_type": "markdown",
   "metadata": {},
   "source": [
    "### the Seq class\n",
    "\n",
    "Seq is a class defined by a string of nucleotides (or aa).\n",
    "\n",
    "It has many attributes such as translate, reverse_complement ...\n",
    "\n",
    "cf. biopython cookbook chapter 3 (https://biopython.org/DIST/docs/tutorial/Tutorial.html#sec17)"
   ]
  },
  {
   "cell_type": "code",
   "execution_count": 47,
   "metadata": {},
   "outputs": [
    {
     "name": "stdout",
     "output_type": "stream",
     "text": [
      "ATGCTTGGAACTAACGTAAATGGGGGGTGAGCCCCCACATCACTCAGTAGTGTCCATGTCATTCA\n",
      "ATGCTT\n",
      "65\n",
      "\n",
      "TGAATGACATGGACACTACTGAGTGATGTGGGGGCTCACCCCCCATTTACGTTAGTTCCAAGCAT\n",
      "MLGTNVNGG*APTSLSSVHVI\n",
      "MLGTNVNGGWAPTSLSSVHVI\n",
      "\n",
      "17\n",
      "1\n",
      "1\n"
     ]
    }
   ],
   "source": [
    "from Bio.Seq import Seq\n",
    "\n",
    "my_seq=Seq('ATGCTTGGAACTAACGTAAATGGGGGGTGAGCCCCCACATCACTCAGTAGTGTCCATGTCATTCA')\n",
    "\n",
    "print(my_seq)\n",
    "print(my_seq[:6])\n",
    "print(len(my_seq))\n",
    "print()\n",
    "\n",
    "print(my_seq.reverse_complement()) # reverse complement\n",
    "print(my_seq.translate()) # translate using universal code\n",
    "print(my_seq.translate(table=5)) # translate using invertabrate mitochondrial genetic code\n",
    "print()\n",
    "\n",
    "print(my_seq.count(\"A\")) # count the number of \"A\"\n",
    "print(my_seq.count(\"TGC\")) # count the number of \"TGC\"\n",
    "print(my_seq.find(\"TGC\")) # find the index of the first instance of \"TGC\"\n",
    "# print(my_seq.find(\"A\",all))"
   ]
  },
  {
   "cell_type": "markdown",
   "metadata": {},
   "source": [
    "### The SeqRecord class\n",
    "\n",
    "SeqRecord is a class defined by: \n",
    "    \n",
    "    1) a Seq() object\n",
    "    \n",
    "    2) an id\n",
    "    \n",
    "    and optionally:\n",
    "        \n",
    "        a name, a decription, features, etc.\n",
    "        \n",
    "cf. Biopython cookbook chapter 4 (https://biopython.org/DIST/docs/tutorial/Tutorial.html#sec34)"
   ]
  },
  {
   "cell_type": "code",
   "execution_count": 49,
   "metadata": {},
   "outputs": [
    {
     "name": "stdout",
     "output_type": "stream",
     "text": [
      "sequence1\n",
      "a random piece of dna created by hitting the keyboard while listening to heavy metal\n",
      "ATGCTTGGAACTAACGTAAATGGGGGGTGAGCCCCCACATCACTCAGTAGTGTCCATGTCATTCA\n",
      "\n",
      "TGAATGACATGGACACTACTGAGTGATGTGGGGGCTCACCCCCCATTTACGTTAGTTCCAAGCAT\n"
     ]
    }
   ],
   "source": [
    "from Bio.Seq import Seq\n",
    "from Bio.SeqRecord import SeqRecord\n",
    "\n",
    "my_seq=Seq('ATGCTTGGAACTAACGTAAATGGGGGGTGAGCCCCCACATCACTCAGTAGTGTCCATGTCATTCA')\n",
    "\n",
    "my_record=SeqRecord(my_seq,\n",
    "            id='sequence1',\n",
    "            name='cool dna sequence',\n",
    "            description='a random piece of dna created by hitting the keyboard while listening to heavy metal')     \n",
    "\n",
    "print(my_record.id)\n",
    "print(my_record.description)\n",
    "print(my_record.seq)\n",
    "print()\n",
    "\n",
    "print(my_record.reverse_complement().seq)"
   ]
  },
  {
   "cell_type": "code",
   "execution_count": 25,
   "metadata": {},
   "outputs": [],
   "source": [
    "## Parse a fasta file\n",
    "\n",
    "Extract specific sequences"
   ]
  },
  {
   "cell_type": "code",
   "execution_count": null,
   "metadata": {},
   "outputs": [],
   "source": [
    "## Parse a genbank file\n",
    "\n",
    "Extract rRNA of symb file\n",
    "\n",
    "Extract CDS of mitogenomes into different fasta"
   ]
  }
 ],
 "metadata": {
  "kernelspec": {
   "display_name": "Python (py36)",
   "language": "python",
   "name": "py36"
  },
  "language_info": {
   "codemirror_mode": {
    "name": "ipython",
    "version": 3
   },
   "file_extension": ".py",
   "mimetype": "text/x-python",
   "name": "python",
   "nbconvert_exporter": "python",
   "pygments_lexer": "ipython3",
   "version": "3.6.10"
  }
 },
 "nbformat": 4,
 "nbformat_minor": 2
}
