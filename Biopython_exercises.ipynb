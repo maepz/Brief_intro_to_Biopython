{
 "cells": [
  {
   "cell_type": "markdown",
   "metadata": {},
   "source": [
    "# Introduction"
   ]
  },
  {
   "cell_type": "markdown",
   "metadata": {
    "jp-MarkdownHeadingCollapsed": true
   },
   "source": [
    "## Python basics"
   ]
  },
  {
   "cell_type": "code",
   "execution_count": null,
   "metadata": {},
   "outputs": [],
   "source": [
    "# a string is a sequence of characters\n",
    "my_string=\"J'aime le chocolat. Des fois, j'en mange 2 barres!\" \n",
    "print(my_string)\n",
    "print(my_string.split('.')) # see what you can do with strings here: https://www.w3schools.com/python/python_ref_string.asp\n",
    "print()\n",
    "# a list is an ordered collection of elements\n",
    "my_list=['Daiqi','Hai Xing','Meihong', 99, 100/4, 'Daiqi'] # Any kind of element can be in a list and elements can be repeated\n",
    "print(my_list)\n",
    "print(my_list[2:4]) # see what you can do with lists here: https://www.w3schools.com/python/python_ref_list.asp\n",
    "print()\n",
    "# a dictionary is a key-value pair that is used to store data in the value that can be accessed with the key.\n",
    "my_dict={'chocolat':'巧克力','piton':'岩钉','bogue':404}\n",
    "print(my_dict)\n",
    "print(my_dict['piton']) # see what you can do with dictionaries here: https://www.w3schools.com/python/python_ref_dictionary.asp"
   ]
  },
  {
   "cell_type": "markdown",
   "metadata": {},
   "source": [
    "## Understand python classes/object\n",
    "\n",
    "From https://www.w3schools.com/python/python_classes.asp :\n",
    "\n",
    "Almost everything in Python is an object, with its properties and methods.\n",
    "\n",
    "A Class is like an object constructor, or a \"blueprint\" for creating objects.\n",
    "\n",
    "The following example is taken from https://scientific-python-101.readthedocs.io/python/classes.html"
   ]
  },
  {
   "cell_type": "code",
   "execution_count": null,
   "metadata": {},
   "outputs": [],
   "source": [
    "class Rectangle:\n",
    "    \"\"\"A rectangle that is described by its length and width.\"\"\"\n",
    "\n",
    "    def __init__(self, length, width): # provide some initial arguments to the class. Here length and width\n",
    "        self.length = length\n",
    "        self.width = width\n",
    "\n",
    "    def area(self): # define a new attribute for the class. Here the area\n",
    "        \"\"\"Return the area of the rectangle.\"\"\"\n",
    "        return(self.length*self.width)\n",
    "\n",
    "    def perimeter(self):\n",
    "        \"\"\"Return the perimeter of the rectangle.\"\"\"\n",
    "        return(2*(self.length + self.width))\n",
    "    \n",
    "my_rectangle = Rectangle(3,4) # create a new object of class Rectangle. Here with length=3 and width=4\n",
    "\n",
    "print(my_rectangle)\n",
    "\n",
    "print('area of my_rectangle', my_rectangle.area())\n",
    "\n",
    "print('perimeter of my_rectangle', my_rectangle.perimeter())\n"
   ]
  },
  {
   "cell_type": "markdown",
   "metadata": {},
   "source": [
    "### EXERCISE 1: Now, complete the code below to create a square and print its area and perimiter"
   ]
  },
  {
   "cell_type": "code",
   "execution_count": null,
   "metadata": {},
   "outputs": [],
   "source": [
    "square="
   ]
  },
  {
   "cell_type": "markdown",
   "metadata": {
    "jp-MarkdownHeadingCollapsed": true
   },
   "source": [
    "## Understand the main Biopython classes"
   ]
  },
  {
   "cell_type": "markdown",
   "metadata": {
    "jp-MarkdownHeadingCollapsed": true
   },
   "source": [
    "### the Seq class\n",
    "\n",
    "Seq is a class defined by a string of nucleotides (or aa).\n",
    "\n",
    "It has many attributes such as translate, reverse_complement ...\n",
    "\n",
    "cf. biopython cookbook chapter 3 (https://biopython.org/DIST/docs/tutorial/Tutorial.html#sec17)"
   ]
  },
  {
   "cell_type": "code",
   "execution_count": null,
   "metadata": {},
   "outputs": [],
   "source": [
    "from Bio.Seq import Seq\n",
    "\n",
    "my_seq=Seq('ATGCTTGGAACTAACGTAAATGGGGGGTGAGCCCCCACATCACTCAGTAGTGTCCATGTCATTCA')\n",
    "\n",
    "print(my_seq)\n",
    "print(my_seq[:6]) # python use 0-indexing meaning the list [a,b,c,d] is indexed [0,1,2,3]; [a,b,c,d][0]=a; [a,b,c,d][1]=b etc.\n",
    "print(len(my_seq))\n",
    "print()\n",
    "\n",
    "print(my_seq.reverse_complement()) # reverse complement\n",
    "print(my_seq.translate()) # translate using universal code\n",
    "print(my_seq.translate(table=5)) # translate using invertabrate mitochondrial genetic code\n",
    "print()\n",
    "\n",
    "print(my_seq.count(\"A\")) # count the number of \"A\"\n",
    "print(my_seq.count(\"TGC\")) # count the number of \"TGC\"\n",
    "print(my_seq.find(\"TGC\")) # find the index of the first instance of \"TGC\"\n",
    "# print(my_seq.find(\"A\",all))"
   ]
  },
  {
   "cell_type": "code",
   "execution_count": null,
   "metadata": {},
   "outputs": [],
   "source": [
    "from Bio.Seq import Seq\n",
    "from Bio.SeqRecord import SeqRecord\n",
    "\n",
    "my_seq=Seq('ATGCTTGGAACTAACGTAAATGGGGGGTGAGCCCCCACATCACTCAGTAGTGTCCATGTCATTCA')\n",
    "\n",
    "my_record=SeqRecord(my_seq,\n",
    "            id='sequence1',\n",
    "            name='cool dna sequence',\n",
    "            description='a random piece of dna created by hitting the keyboard while listening to heavy metal')     \n",
    "\n",
    "print(my_record.id)\n",
    "print(my_record.description)\n",
    "print(len(my_record))\n",
    "print(my_record.seq)\n",
    "print()\n",
    "\n",
    "print(my_record.reverse_complement().seq)"
   ]
  },
  {
   "cell_type": "markdown",
   "metadata": {
    "jp-MarkdownHeadingCollapsed": true
   },
   "source": [
    "### The SeqRecord class\n",
    "\n",
    "SeqRecord is a class defined by: \n",
    "    \n",
    "    1) a Seq() object\n",
    "    \n",
    "    2) an id\n",
    "    \n",
    "    and optionally:\n",
    "        \n",
    "        a name, a decription, features, etc.\n",
    "        \n",
    "cf. Biopython cookbook chapter 4 (https://biopython.org/DIST/docs/tutorial/Tutorial.html#sec34)"
   ]
  },
  {
   "cell_type": "markdown",
   "metadata": {},
   "source": [
    "# Parse a fasta file"
   ]
  },
  {
   "cell_type": "markdown",
   "metadata": {
    "jp-MarkdownHeadingCollapsed": true
   },
   "source": [
    "## Scan a fasta file and print its sequences ids and descriptions"
   ]
  },
  {
   "cell_type": "code",
   "execution_count": null,
   "metadata": {},
   "outputs": [],
   "source": [
    "## Parse a fasta file\n",
    "from Bio import SeqIO\n",
    "\n",
    "fastafile='JACRUR01.1.aa.fasta'\n",
    "\n",
    "i=1 # Can you guess what this is used for in the code below?\n",
    "for record in SeqIO.parse(fastafile,'fasta'): # Start reading one by one the sequences in the fasta file\n",
    "    print('RECORD_ID=',record.id, 'RECORD_DESCRIPTION=',record.description)\n",
    "    i+=1\n",
    "    if i>10:\n",
    "        break # stop the loop\n",
    "\n"
   ]
  },
  {
   "cell_type": "markdown",
   "metadata": {},
   "source": [
    "### EXERCISE 1: Now, parse the content of the fasta \"JACRUS01.1.aa.fasta\" and find the id of its 50th sequence. \n",
    "BONUS 1: Can you modify your code to only print the 50th sequence's id and nothing else?\n",
    "\n",
    "BONUS 2: Can you modify your code to count the number of sequences there are in this fasta file?"
   ]
  },
  {
   "cell_type": "code",
   "execution_count": null,
   "metadata": {},
   "outputs": [],
   "source": [
    "from Bio import SeqIO\n",
    "\n",
    "fastafile=\"JACRUS01.1.aa.fasta\"\n"
   ]
  },
  {
   "cell_type": "markdown",
   "metadata": {},
   "source": [
    "## Scan a fasta file and save its records if they match a certain criteria"
   ]
  },
  {
   "cell_type": "code",
   "execution_count": null,
   "metadata": {},
   "outputs": [],
   "source": [
    "from Bio import SeqIO\n",
    "\n",
    "fastafile='JACRUR01.1.aa.fasta'\n",
    "\n",
    "my_records=[] # create an emply list in which you will place the records you want ot save\n",
    "\n",
    "for record in SeqIO.parse(fastafile,'fasta'): # Start reading one by one the sequences in the fasta file\n",
    "    if 'sulfate reductase' in record.description:\n",
    "        my_records+=[record]\n",
    "\n",
    "print(my_records) # print the list of sequences saved\n",
    "print()\n",
    "print(len(my_records)) # print the number of sequences saved\n",
    "print()\n",
    "print('\\n'.join([rec.description for rec in my_records])) # print the list of saved sequence descriptions separated by <return> character\n",
    "\n",
    "new_fastafile='sulfate_reductase.JACRUR01.1.aa.fasta' #name of output file\n",
    "SeqIO.write(my_records, new_fastafile, 'fasta') #write the saved sequences into a fasta file"
   ]
  },
  {
   "cell_type": "markdown",
   "metadata": {
    "jp-MarkdownHeadingCollapsed": true
   },
   "source": [
    "### EXERCISE 2: Now, parse the content of the fasta \"JACRUS01.1.aa.fasta\" and extract the \"hypothetical protein\"s\n",
    "\n",
    "BONUS 1: Extract all sequences that are NOT hypothetical proteins\n",
    "\n",
    "BONUS 2: Extract all sequences longer than 1000 amino acids\n",
    "\n",
    "BONUS 3: Extract the only these two sequences: MBW5290325.1, MBW5290364.1\n"
   ]
  },
  {
   "cell_type": "code",
   "execution_count": null,
   "metadata": {},
   "outputs": [],
   "source": [
    "from Bio import SeqIO\n",
    "\n",
    "fastafile=\"JACRUS01.1.aa.fasta\"\n"
   ]
  },
  {
   "cell_type": "markdown",
   "metadata": {},
   "source": [
    "# Parse a genbank file\n",
    "\n",
    "In Biopython, genbank file is a collection/list of SeqRecords. \n",
    "\n",
    "Each record correspond to a contig.\n",
    "\n",
    "Each record contains annotations as a list of 'features'.\n",
    "\n",
    "Each feature is of a certain 'type': gene, CDS, Exon, Intron, rRNA, tRNA, RNA etc.\n",
    "\n",
    "Each feature also as various 'qualifiers' attributes such as locus_tag, description, product etc. \n",
    "\n",
    "CDS features typically have a \"product\" qualifier which correspond to the amino acid sequence. RNA features do not.\n",
    "\n",
    "BE AWARE that features' qualifiers (and sometimes types) can vary depending on which software they were produced from."
   ]
  },
  {
   "cell_type": "code",
   "execution_count": null,
   "metadata": {},
   "outputs": [],
   "source": [
    "## Parse a genbank file\n",
    "from Bio import SeqIO\n",
    "\n",
    "genbankfile='JACRUS01.1.gbk'\n",
    "\n",
    "i=1\n",
    "for record in SeqIO.parse(genbankfile,'genbank'):\n",
    "    print('RECORD_ID=',record.id)\n",
    "    for feature in record.features:\n",
    "        print(feature)\n",
    "        i+=1\n",
    "        if i>5:\n",
    "            break\n",
    "    break\n",
    "    "
   ]
  },
  {
   "cell_type": "code",
   "execution_count": null,
   "metadata": {},
   "outputs": [],
   "source": [
    "## access a specific CDS based on locus_tag\n",
    "print('CDS RECORD FOR Rsou_0462 =')\n",
    "\n",
    "for record in SeqIO.parse(genbankfile,'genbank'):\n",
    "    # print('RECORD_ID=',record.id)\n",
    "    for feature in record.features:\n",
    "        if feature.type=='CDS':\n",
    "            if feature.qualifiers['locus_tag'][0]=='Rsou_0462':\n",
    "                print(feature)\n",
    "            \n",
    "## access a specific CDS based on product name\n",
    "print('CDS RECORD FOR sulfate reductase =')\n",
    "for record in SeqIO.parse(genbankfile,'genbank'):\n",
    "    # print('RECORD_ID=',record.id)\n",
    "    for feature in record.features:\n",
    "        if feature.type=='CDS':\n",
    "            if 'sulfate reductase' in feature.qualifiers['product'][0]:\n",
    "                print(feature)\n",
    "                "
   ]
  },
  {
   "cell_type": "code",
   "execution_count": null,
   "metadata": {},
   "outputs": [],
   "source": [
    "\n",
    "my_sequences=[]\n",
    "\n",
    "## access a specific CDS based on locus_tag\n",
    "\n",
    "for record in SeqIO.parse(genbankfile,'genbank'):\n",
    "    # print('RECORD_ID=',record.id)\n",
    "    for feature in record.features:\n",
    "        if feature.type=='CDS':\n",
    "            if feature.qualifiers['locus_tag'][0]=='Rsou_0462':\n",
    "                sequence=feature.extract(record)\n",
    "                sequence.id=feature.qualifiers['locus_tag'][0] # an extracted feature does not have id, name or description so you have to add it. Here, we are using the locus_tag\n",
    "                sequence.description=feature.qualifiers['product'][0]\n",
    "                my_sequences+=[sequence]\n",
    "                \n",
    "            if 'sulfate reductase' in feature.qualifiers['product'][0]:\n",
    "                sequence=feature.extract(record)\n",
    "                sequence.id=feature.qualifiers['locus_tag'][0] # an extracted feature does not have id, name or description so you have to add it. Here, we are using the locus_tag\n",
    "                sequence.description=feature.qualifiers['product'][0]\n",
    "                my_sequences+=[sequence]\n",
    "\n",
    "\n",
    "print(my_sequences)\n",
    "\n",
    "fasta_out='extracted_sequences.JACRUS01.1.fasta'\n",
    "SeqIO.write(my_sequences,fasta_out,'fasta')                "
   ]
  },
  {
   "cell_type": "markdown",
   "metadata": {},
   "source": [
    "### EXERCISE 3: Modify the script below to extract in a single fasta file the sequences for the cytochrome oxidase I (COI) from a bunch of mitogenomes. HINT: in mitogenomes downloaded from NCBI, COI is idenfitied as \"cox1\" in the 'gene' qualifier\n",
    "\n",
    "BONUS_1: Can you modify your code to write a fasta of the amino acid sequences instead of nucleotide sequences?\n",
    "\n",
    "BONUS_2: Can you modify your code to extract all mitochondrial genes into separate fasta files?\n"
   ]
  },
  {
   "cell_type": "code",
   "execution_count": null,
   "metadata": {},
   "outputs": [],
   "source": [
    "# genbank_list=['MT947381.gb','MT947383.gb','MT947388.gb','MT947391.gb']\n",
    "# PATH_to_GBK='Vesic_mitogenomes/'\n",
    "# myfiles=[PATH_to_GBK+item for item in genbank_list]\n",
    "\n",
    "my_mitogenomes=['Vesic_mitogenomes/MT947381.gb',\n",
    "              'Vesic_mitogenomes/MT947383.gb',\n",
    "              'Vesic_mitogenomes/MT947388.gb',\n",
    "              'Vesic_mitogenomes/MT947391.gb']\n",
    "\n",
    "my_COI=[]\n",
    "\n",
    "for genbankfile in my_mitogenomes:\n",
    "    for record in SeqIO.parse(genbankfile,'genbank'):\n",
    "        print(record.id)\n",
    "        "
   ]
  },
  {
   "cell_type": "code",
   "execution_count": null,
   "metadata": {},
   "outputs": [],
   "source": []
  }
 ],
 "metadata": {
  "kernelspec": {
   "display_name": "Python 3 (ipykernel)",
   "language": "python",
   "name": "python3"
  },
  "language_info": {
   "codemirror_mode": {
    "name": "ipython",
    "version": 3
   },
   "file_extension": ".py",
   "mimetype": "text/x-python",
   "name": "python",
   "nbconvert_exporter": "python",
   "pygments_lexer": "ipython3",
   "version": "3.11.6"
  }
 },
 "nbformat": 4,
 "nbformat_minor": 4
}
